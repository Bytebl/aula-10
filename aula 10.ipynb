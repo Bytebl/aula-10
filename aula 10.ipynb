{
 "cells": [
  {
   "cell_type": "code",
   "execution_count": 15,
   "metadata": {},
   "outputs": [
    {
     "name": "stdout",
     "output_type": "stream",
     "text": [
      "4 patinhos foram passear /n além das montanhas para brincar /n a mamãe gritou: qua, qua, qua, qua ,qua /n mas só 3 patinhos voltaram de la\n",
      "4 patinhos foram passear /n além das montanhas para brincar /n a mamãe gritou: qua, qua, qua, qua ,qua /n mas só 3 patinhos voltaram de la\n",
      "4 patinhos foram passear /n além das montanhas para brincar /n a mamãe gritou: qua, qua, qua, qua ,qua /n mas só 3 patinhos voltaram de la\n",
      "4 patinhos foram passear /n além das montanhas para brincar /n a mamãe gritou: qua, qua, qua, qua ,qua /n mas só 3 patinhos voltaram de la\n",
      "4 patinhos foram passear /n além das montanhas para brincar /n a mamãe gritou: qua, qua, qua, qua ,qua /n mas só 3 patinhos voltaram de la\n"
     ]
    }
   ],
   "source": [
    "n=5 \n",
    "for n in[5,4,3,2,1]:\n",
    "    print(patinhos,\"patinhos foram passear /n além das montanhas para brincar\", \"/n a mamãe gritou: qua, qua, qua, qua ,qua /n mas só\" , patinhos-1, \"patinhos voltaram de la\")"
   ]
  },
  {
   "cell_type": "code",
   "execution_count": 20,
   "metadata": {},
   "outputs": [
    {
     "name": "stdout",
     "output_type": "stream",
     "text": [
      "a tabuada: 22 x 11 = 242\n",
      "a tabuada: 22 x 22 = 484\n",
      "a tabuada: 22 x 33 = 726\n",
      "a tabuada: 22 x 44 = 968\n",
      "a tabuada: 22 x 55 = 1210\n",
      "a tabuada: 22 x 66 = 1452\n",
      "a tabuada: 22 x 77 = 1694\n",
      "a tabuada: 22 x 88 = 1936\n",
      "a tabuada: 22 x 99 = 2178\n"
     ]
    }
   ],
   "source": [
    "n=int(input(\"digite um numero\"))\n",
    "for num in[11,22,33,44,55,66,77,88,99]:\n",
    " print(\"a tabuada:\",n,\"x\",num,'=', n*num)"
   ]
  },
  {
   "cell_type": "code",
   "execution_count": null,
   "metadata": {},
   "outputs": [],
   "source": []
  }
 ],
 "metadata": {
  "kernelspec": {
   "display_name": "Python 3",
   "language": "python",
   "name": "python3"
  },
  "language_info": {
   "codemirror_mode": {
    "name": "ipython",
    "version": 3
   },
   "file_extension": ".py",
   "mimetype": "text/x-python",
   "name": "python",
   "nbconvert_exporter": "python",
   "pygments_lexer": "ipython3",
   "version": "3.10.8"
  }
 },
 "nbformat": 4,
 "nbformat_minor": 2
}
